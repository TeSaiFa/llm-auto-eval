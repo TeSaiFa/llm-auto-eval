{
 "cells": [
  {
   "cell_type": "code",
   "execution_count": 1,
   "metadata": {},
   "outputs": [],
   "source": [
    "import os\n",
    "import openai\n",
    "openai.api_key = 'sk-xxx'"
   ]
  },
  {
   "cell_type": "code",
   "execution_count": 34,
   "metadata": {},
   "outputs": [],
   "source": [
    "os.getenv(\"OPENAI_API_KEY\")"
   ]
  },
  {
   "cell_type": "markdown",
   "metadata": {},
   "source": [
    "# answer processing"
   ]
  },
  {
   "cell_type": "code",
   "execution_count": 2,
   "metadata": {},
   "outputs": [],
   "source": [
    "import pandas as pd\n",
    "llm_results = pd.read_csv('dataset/output/results_with_llm.csv')"
   ]
  },
  {
   "cell_type": "code",
   "execution_count": 19,
   "metadata": {},
   "outputs": [
    {
     "data": {
      "text/html": [
       "<div>\n",
       "<style scoped>\n",
       "    .dataframe tbody tr th:only-of-type {\n",
       "        vertical-align: middle;\n",
       "    }\n",
       "\n",
       "    .dataframe tbody tr th {\n",
       "        vertical-align: top;\n",
       "    }\n",
       "\n",
       "    .dataframe thead th {\n",
       "        text-align: right;\n",
       "    }\n",
       "</style>\n",
       "<table border=\"1\" class=\"dataframe\">\n",
       "  <thead>\n",
       "    <tr style=\"text-align: right;\">\n",
       "      <th></th>\n",
       "      <th>一级分类</th>\n",
       "      <th>二级分类</th>\n",
       "      <th>domain</th>\n",
       "      <th>数据来源</th>\n",
       "      <th>题型分类</th>\n",
       "      <th>prompt</th>\n",
       "      <th>answer</th>\n",
       "      <th>id</th>\n",
       "      <th>instruction</th>\n",
       "      <th>chatglm</th>\n",
       "      <th>chatglm2</th>\n",
       "      <th>chinese-alpaca-13b</th>\n",
       "      <th>moss-sft</th>\n",
       "      <th>baichuan-7b</th>\n",
       "      <th>davinci-003</th>\n",
       "    </tr>\n",
       "  </thead>\n",
       "  <tbody>\n",
       "    <tr>\n",
       "      <th>0</th>\n",
       "      <td>基础能力</td>\n",
       "      <td>生成与创作</td>\n",
       "      <td>商品文案描述</td>\n",
       "      <td>机器生成/人工调整</td>\n",
       "      <td>问答</td>\n",
       "      <td>用以下关键词，帮我生成一段文案，关键词：牙刷架，家居，造型，小巧，收纳，小巧造型，牙刷，杯子</td>\n",
       "      <td>当家居遇上牙刷架，小巧造型的设计让收纳变得更加简单。这款牙刷架不仅外形精致小巧，还能同时容纳...</td>\n",
       "      <td>0</td>\n",
       "      <td>请你回答一个开放性问题，问题如下：\\n用以下关键词，帮我生成一段文案，关键词：牙刷架，家居，...</td>\n",
       "      <td>牙刷架是家居生活中必不可少的小物件之一。小巧玲珑的牙刷架不仅可以方便我们收纳牙刷,而且还可以...</td>\n",
       "      <td>\\n欢迎来到我们的全新牙刷架——小巧、造型独特,为您带来全新的口腔护理体验!这款牙刷架采用小...</td>\n",
       "      <td>我们为您推荐一款小巧的牙刷架，它不仅可以帮助您更好地管理您的牙刷和杯子，还可以让您的家居更...</td>\n",
       "      <td>\\n描述一种新型的小型电动牙刷架收纳盒。它采用轻巧的金属材质制作而成，外形设计简约大方、线条...</td>\n",
       "      <td>1. 20世纪80年代,美国人发明了第一支电动牙刷。此后,随着人们对口腔卫生的重视程度不断...</td>\n",
       "      <td>如果你正在寻找一款小巧造型的牙刷架，那么它将是你家居收纳的完美选择。这款牙刷架不仅小巧，而且...</td>\n",
       "    </tr>\n",
       "  </tbody>\n",
       "</table>\n",
       "</div>"
      ],
      "text/plain": [
       "   一级分类   二级分类  domain       数据来源 题型分类  \\\n",
       "0  基础能力  生成与创作  商品文案描述  机器生成/人工调整   问答   \n",
       "\n",
       "                                           prompt  \\\n",
       "0  用以下关键词，帮我生成一段文案，关键词：牙刷架，家居，造型，小巧，收纳，小巧造型，牙刷，杯子   \n",
       "\n",
       "                                              answer  id  \\\n",
       "0  当家居遇上牙刷架，小巧造型的设计让收纳变得更加简单。这款牙刷架不仅外形精致小巧，还能同时容纳...   0   \n",
       "\n",
       "                                         instruction  \\\n",
       "0  请你回答一个开放性问题，问题如下：\\n用以下关键词，帮我生成一段文案，关键词：牙刷架，家居，...   \n",
       "\n",
       "                                             chatglm  \\\n",
       "0  牙刷架是家居生活中必不可少的小物件之一。小巧玲珑的牙刷架不仅可以方便我们收纳牙刷,而且还可以...   \n",
       "\n",
       "                                            chatglm2  \\\n",
       "0  \\n欢迎来到我们的全新牙刷架——小巧、造型独特,为您带来全新的口腔护理体验!这款牙刷架采用小...   \n",
       "\n",
       "                                  chinese-alpaca-13b  \\\n",
       "0   我们为您推荐一款小巧的牙刷架，它不仅可以帮助您更好地管理您的牙刷和杯子，还可以让您的家居更...   \n",
       "\n",
       "                                            moss-sft  \\\n",
       "0  \\n描述一种新型的小型电动牙刷架收纳盒。它采用轻巧的金属材质制作而成，外形设计简约大方、线条...   \n",
       "\n",
       "                                         baichuan-7b  \\\n",
       "0   1. 20世纪80年代,美国人发明了第一支电动牙刷。此后,随着人们对口腔卫生的重视程度不断...   \n",
       "\n",
       "                                         davinci-003  \n",
       "0  如果你正在寻找一款小巧造型的牙刷架，那么它将是你家居收纳的完美选择。这款牙刷架不仅小巧，而且...  "
      ]
     },
     "execution_count": 19,
     "metadata": {},
     "output_type": "execute_result"
    }
   ],
   "source": [
    "llm_results.head(1)"
   ]
  },
  {
   "cell_type": "code",
   "execution_count": 3,
   "metadata": {},
   "outputs": [],
   "source": [
    "from src.llm_answer_postprocessor import AnswerProcessor\n",
    "answer_processor = AnswerProcessor()"
   ]
  },
  {
   "cell_type": "markdown",
   "metadata": {},
   "source": [
    "### example"
   ]
  },
  {
   "cell_type": "code",
   "execution_count": 17,
   "metadata": {},
   "outputs": [
    {
     "name": "stdout",
     "output_type": "stream",
     "text": [
      "<|Human|>: 我应该怎样安排饮食来减少体重？ <eoh> \n",
      "<|MOSS|>: 为了减轻体重并达到每周减重5磅的目标，您需要遵循以下建议的饮食计划: \n",
      "\n",
      "1. 增加蛋白质的摄入量。选择瘦肉、鱼和豆类等高质量蛋白质食物可以帮助你保持饱腹感并提供能量支持你的日常活动水平。每天摄入约100克左右的蛋白质是一个好的起点。\n",
      "2. 降低碳水化合物的摄入量。尽量减少糖类和淀粉类食物的摄取，如糖果、蛋糕、面包等等。取而代之的是增加蔬菜、水果和低脂肪乳制品等的比例。这些食品可以提供足够的营养并且有助于控制食欲。\n",
      "3. 多吃蔬菜和水果。它们富含纤维和其他营养素，而且热量较低。尝试每天吃至少4份不同颜色的蔬果以获取更多的营养成分。此外，将果汁替换为水或茶也可以帮助你控制添加的糖分含量。\n",
      "4. 规律进餐并保持适当的饮水量。不要跳餐或者过度进食以避免暴饮暴食的情况发生。同时要保持足够的水分摄入以满足身体的需求。\n",
      "\n",
      "总之，通过合理的饮食习惯和控制卡路里的消耗是实现减脂目标的必要条件之一。 <eom>\n",
      "----------------------------------------------------------------------------------------------------\n",
      "为了减轻体重并达到每周减重5磅的目标，您需要遵循以下建议的饮食计划: \n",
      "\n",
      "1. 增加蛋白质的摄入量。选择瘦肉、鱼和豆类等高质量蛋白质食物可以帮助你保持饱腹感并提供能量支持你的日常活动水平。每天摄入约100克左右的蛋白质是一个好的起点。\n",
      "2. 降低碳水化合物的摄入量。尽量减少糖类和淀粉类食物的摄取，如糖果、蛋糕、面包等等。取而代之的是增加蔬菜、水果和低脂肪乳制品等的比例。这些食品可以提供足够的营养并且有助于控制食欲。\n",
      "3. 多吃蔬菜和水果。它们富含纤维和其他营养素，而且热量较低。尝试每天吃至少4份不同颜色的蔬果以获取更多的营养成分。此外，将果汁替换为水或茶也可以帮助你控制添加的糖分含量。\n",
      "4. 规律进餐并保持适当的饮水量。不要跳餐或者过度进食以避免暴饮暴食的情况发生。同时要保持足够的水分摄入以满足身体的需求。\n",
      "\n",
      "总之，通过合理的饮食习惯和控制卡路里的消耗是实现减脂目标的必要条件之一。\n"
     ]
    }
   ],
   "source": [
    "d = dict(llm_results.iloc[4,:])\n",
    "print(d['moss-sft'])\n",
    "print('-'*100)\n",
    "print(answer_processor.processing(typ=d['题型分类'], model_name='moss-sft', answer=d['moss-sft']))"
   ]
  },
  {
   "cell_type": "markdown",
   "metadata": {},
   "source": [
    "# ChatGPT eval-agent"
   ]
  },
  {
   "cell_type": "code",
   "execution_count": 5,
   "metadata": {},
   "outputs": [],
   "source": [
    "from src.eval_agent import ScoringAgent,UnderstandingAgent,RankingAgent\n",
    "from src.llm_answer_postprocessor import AnswerProcessor\n",
    "answer_processor = AnswerProcessor()\n",
    "model_name = ['chatglm','chatglm2','chinese-alpaca-13b','moss-sft','baichuan-7b', 'davinci-003']\n",
    "reference = 'answer'"
   ]
  },
  {
   "cell_type": "markdown",
   "metadata": {},
   "source": [
    "## Scoring Example"
   ]
  },
  {
   "cell_type": "code",
   "execution_count": 8,
   "metadata": {},
   "outputs": [],
   "source": [
    "example = dict(llm_results.iloc[5,:])"
   ]
  },
  {
   "cell_type": "code",
   "execution_count": 9,
   "metadata": {
    "collapsed": true,
    "jupyter": {
     "outputs_hidden": true
    },
    "tags": []
   },
   "outputs": [
    {
     "name": "stdout",
     "output_type": "stream",
     "text": [
      "\n",
      "You are a scoring GPT, an intelligent assistant that can score the LLM output answer to the question with respect to following three aspects with score 1 to 3.\n",
      "\n",
      "Aspect 1 effectiveness:\n",
      "Score 1 means the answer is totally irrelevant to the question;\n",
      "Score 2 means the answer can partially follow the question and provide insufficient information to the question;\n",
      "Score 3 means the answer can follow the question well and provide enough information to the question.\n",
      "\n",
      "Aspect 2 reliability:\n",
      "Score 1 means the answer is totally fictitious and illogical;\n",
      "Score 2 means the answer contains some facts faults and full of logical flaws;\n",
      "Score 3 means the answer is logically sound and totally factual.\n",
      "\n",
      "Aspect 3 fluency:\n",
      "Score 1 means the answer is incomplete and incoherent, or keeps repeating the same phrase;\n",
      "Score 2 means the answer is complete, while containing grammatical errors;\n",
      "Score 3 means the answer is complete, coherent and free of grammatical errors.\n",
      "\n",
      "Please output the score and the output format should be \n",
      "[effectiveness score] ...\n",
      "[reliability score] ...\n",
      "[fluency score] ...\n",
      "\n",
      "For example:\n",
      "[effectiveness score] 2\n",
      "[reliability score] 2\n",
      "[fluency score] 2\n",
      "\n",
      "The reference answer to the question will be given below, and suppose it scores 2 points.\n",
      "\n",
      "Question is: \n",
      "帮我制定两个月的雅思备考计划，并推荐学习资料 \n",
      "\n",
      "The LLM Answer is: \n",
      "在两个月的雅思备考计划中，我建议您每周至少安排4-5个小时的学习时间，每天安排1-2个小时的学习时间，每天安排一次模拟考试，以检验自己的学习效果。在学习过程中，要重点掌握雅思考试的考试形式、考试要求、考试技巧等，并熟练掌握各种语言知识，如语法、词汇、句型等。\n",
      "\n",
      "推荐学习资料方面，我推荐您可以使用官方指定的雅思考试教材，如《Official IELTS Practice Materials》、《Official IELTS Practice Materials 2》等，这些教材可以帮助您更好地掌握雅思考试的知识点，并且可以提供大量的模拟试题，以便您更好地检验自己的学习效果。此外，您还可以使用一些网络资源，如慕课网、沪江网等，这些网络资源可以提供大量的学习资料，以及一些有用的学习技巧，可以帮助您更好地备考雅思考试。\n",
      "\n",
      "The reference answer to user's question is:\n",
      "好嘞，你这就是要全方位的备考计划啊！没问题，我来帮你制定一个两个月的雅思备考计划，并推荐一些学习资料给你。\n",
      "第一个月：\n",
      "周一至周五：\n",
      "早上：每天安排1小时的听力练习，可以选择使用Cambridge IELTS系列的听力材料进行练习。\n",
      "下午：每天安排2小时的阅读练习，推荐使用《剑桥雅思真题》或者《雅思官方指南》中的阅读部分进行练习。\n",
      "周末：\n",
      "周六：安排4小时的口语练习，可以找个语伴进行对话练习，或者使用《剑桥雅思真题》中的口语部分进行模拟练习。\n",
      "周日：安排4小时的写作练习，推荐使用《剑桥雅思真题》或者《雅思官方指南》中的写作部分进行练习。\n",
      "第二个月：\n",
      "周一至周五：\n",
      "早上：每天安排1小时的听力练习，可以选择使用IELTS Liz的听力视频进行练习。\n",
      "下午：每天安排2小时的阅读练习，推荐使用《剑桥雅思真题》或者《雅思官方指南》中的阅读部分进行练习。\n",
      "周末：\n",
      "周六：安排4小时的口语练习，可以找个语伴进行对话练习，或者使用IELTS Liz的口语视频进行模拟练习。\n",
      "周日：安排4小时的写作练习，推荐使用《剑桥雅思真题》或者《雅思官方指南》中的写作部分进行练习。\n",
      "此外，还有一些其他的学习资料可以帮助你备考雅思：\n",
      "IELTS Liz网站：提供了丰富的雅思学习资源，包括听力、阅读、口语和写作的视频教程和练习材料。\n",
      "雅思官方网站：提供了最权威的雅思考试信息和资源，包括真题下载、考试指南等。\n",
      "Cambridge IELTS系列：这是备考雅思必备的经典教材，里面有大量的真题和练习材料，非常适合备考使用。\n",
      "记住，备考雅思需要坚持和毅力，每天都要保持良好的学习习惯。相信自己，加油！\n",
      "\n",
      "The score of the LLM Answer is:\n",
      "\n",
      "[effectiveness score] 3\n",
      "[reliability score] 3\n",
      "[fluency score] 3\n"
     ]
    }
   ],
   "source": [
    "llm_answer = answer_processor.processing(typ=example['题型分类'], model_name='davinci-003', answer=example['davinci-003'])\n",
    "inputs = {\n",
    "    'question':example['prompt'],\n",
    "    'llm_answer':llm_answer,\n",
    "    'reference_answer':example['answer']\n",
    "}\n",
    "scoringAgent = ScoringAgent()\n",
    "print(scoringAgent.get_prompt(**inputs))\n",
    "print(scoringAgent.evaluation(inputs=inputs, \n",
    "                        model_name='gpt-3.5-turbo-16k-0613',\n",
    "                        key=openai.api_key))"
   ]
  },
  {
   "cell_type": "markdown",
   "metadata": {},
   "source": [
    "## Ranking Example"
   ]
  },
  {
   "cell_type": "code",
   "execution_count": 10,
   "metadata": {
    "collapsed": true,
    "jupyter": {
     "outputs_hidden": true
    },
    "tags": []
   },
   "outputs": [
    {
     "name": "stdout",
     "output_type": "stream",
     "text": [
      "\n",
      "This is RankGPT, an intelligent assistant that can rank answers based on their effectiveness, reliability, and fluency to the question. Definition of three principles are given below:\n",
      "The definition of effectiveness are:\n",
      "1. The answer can follow the question well and be related to the question;\n",
      "2. The answer can provide some information to meet the requirements of the question.\n",
      "The definition of reliability are:\n",
      "1. The information in the answer is consistent with objective reality;\n",
      "2. The answer and its reasoning are logically sound.\n",
      "The definition of fluency are:\n",
      "1. The answer is complete;\n",
      "2. The answer is coherent and free of grammatical errors.\n",
      "\n",
      "[1] 制定两个月的雅思备考计划,可以参考下述步骤和建议:\n",
      "1. 评估英语水平:包括口语、写作、听力和阅读等方面。了解弱点和需要提高的领域,为接下来的备考计划做好准备。\n",
      "2. 制定备考时间表:根据弱点和目标,制定一份详细的备考时间表。确保每天都有足够的时间来复习和学习。考虑到个人情况,可以安排一些时间来模拟考试和提高语法和词汇水平。\n",
      "3. 学习雅思考试内容:在制定备考计划时,需要了解雅思考试的内容和要求。然后,针对每个部分进行深入学习和练习。可以参考官方的指南和练习题,例如 IELTS Practice Tests and Solutions。\n",
      "4. 参加培训课程:如果还没有参加过雅思培训课程,可以考虑参加。这将帮助了解考试要求和测试方式,并提供实用的技巧和策略。\n",
      "5. 练习口语和写作:雅思考试中,口语和写作占据了很大的比重,因此需要多加练习。可以通过与英语母语人士交流或参加口语和写作练习班来提高口语和写作能力。\n",
      "学习资料方面,可以参考官方的指南和练习题,此外还可以找一些雅思考试相关的书籍和视频进行辅助学习。另外,可以尝试使用一些在线资源和应用程序,例如 IELTS Learning Management System (LMS)和雅思备考软件。\n",
      "[2] 很高兴能为您制定雅思备考计划!以下是您两个月备考计划的大致框架,其中包括了一些建议的学习资料。\n",
      "\n",
      "**第一周:**\n",
      "\n",
      "- 熟悉雅思考试格式和内容:阅读部分包括哪些题型?听力部分包括哪些题型?写作部分包括哪些题型?\n",
      "- 扩充词汇量:每天背诵至少20个单词,集中练习弱项。\n",
      "- 阅读理解练习:每天至少完成一篇阅读理解练习,包括阅读、做题、理解和记忆文章内容。\n",
      "- 听力练习:每天至少完成一篇听力练习,包括听音、做题、理解和记忆内容。\n",
      "- 口语练习:每天至少完成一篇口语练习,包括准备答案、练习发音、流利度和自信心。\n",
      "- 写作练习:每天至少完成一篇写作练习,包括写作思路、结构和表达能力。\n",
      "\n",
      "**第二周:**\n",
      "\n",
      "- 分析自己的错误和弱点:回顾自己上周的练习,找出犯过的错误和弱点,加强练习。\n",
      "- 着重练习弱项:继续重点练习自己的弱项,如阅读理解、听力、口语和写作中的某些方面。\n",
      "- 增加模拟考试:每周至少进行一次模拟考试,包括完整的雅思考试模拟考试和口语练习模拟考试。这有助于了解自己在考试中的表现,发现问题并加以改进。\n",
      "- 练习口语技巧:在模拟考试中,特别注意口语部分的技巧,如准确地表达观点、使用恰当的语法和词汇,流利地陈述事实等。\n",
      "\n",
      "**第三周:**\n",
      "\n",
      "- 深入学习写作技巧:继续深入学习写作技巧,包括如何组织结构、如何表达观点和如何使用例子来支持观点等。\n",
      "- 练习写作范文:在写作练习中,选择一些写作范文进行模仿,从而提高自己的写作技能。\n",
      "- 练习口语技巧:在口语练习中,继续练习口语技巧,包括如何更好地陈述事实、如何更清晰地表达观点以及如何使用更多的例子来支持观点等。\n",
      "- 复习阅读理解:在阅读理解练习中,再次复习上两周的内容,特别关注自己之前的错误和弱点。\n",
      "\n",
      "**第四周:**\n",
      "\n",
      "- 进行全面复习:在考试前,进行全面复习,特别是针对之前出现错误的方面。\n",
      "- 制作考前押题:如果有条件的话,可以寻找一些考场上的押题,进行全面的模拟考试,以便更好地应对考试。\n",
      "- 放松心态:在考试前一天,一定要放松心情,避免过度紧张和压力。\n",
      "- 睡眠充足:保证充足的睡眠时间,以便在考试当天精神饱满。\n",
      "\n",
      "关于学习资料,我推荐您参考以下资源:\n",
      "\n",
      "- 雅思考试官方指南:https://www.ielts.org/zh-cn/documents/tips-and-strategies/\n",
      "- 雅思官方网站提供的雅思考试样题:https://www.ielts.org/zh-cn/sample-tests/\n",
      "- 词汇书:例如《考研英语词汇必备》或《托福词汇手册》,根据自己的词汇量需要进行选择。\n",
      "- 网络自学平台:例如Coursera、Udemy等,提供丰富的雅思考试培训课程,可以根据自己的需要进行选择。\n",
      "[3] 1. 您认为如何制定一个有效的备考计划？\n",
      "2. 您认为哪些是备考过程中需要注意的事项？\n",
      "[4] 英语水平的提升需要长期的积累和不断的练习。以下是我为您制定的两周的英语备考计划和一些推荐的学习资源供您参考: \n",
      "\n",
      "第一周（第1天 - 第7天）\n",
      "目标：掌握基本的词汇、语法知识和口语表达技巧；熟悉常用的英文表达方式和文化背景知识。\n",
      "建议学习时间安排为每天2小时至3小时左右的时间进行学习和复习。以下是一些推荐的英语学习资源和工具：\n",
      "\n",
      "1.《剑桥商务英语口语》系列教材：《BEC口试必备》、《BEC初级听力与写作教程》；《新东方·考研英语真题解析及模拟试题集》。这些书籍可以帮助你了解英语的常用短语和专业术语以及如何运用它们来应对各种考试场景。同时也可以帮助你扩大词汇量并加强听力和口语技能的训练。\n",
      "\n",
      "2.在线课程平台如Coursera或edX上的免费语言类课程或者MOOC网站如中国大学MOOC等提供的相关视频教学和学习材料都是不错的选择。例如，“英国文化与社会”这门课可以带你深入了解英国的传统文化和社会习惯；“美国历史与文化”则可以让你对美国的政治制度、社会结构等方面有更深入的了解等等。通过这些课程的讲解和分析你可以更好地理解语言的用法和理解方式。\n",
      "\n",
      "第二周 （第8天 - 14 天）\n",
      "目标是进一步巩固所学的基本单词和句子构造方法，并且通过实践应用所学内容来进行听说读写的综合训练。建议在每周五到六天的晚上花费4个小时左右时间来完成这个阶段的目标。下面是一些额外的学习方法和资源：\n",
      "\n",
      "1. 阅读书籍/文章以增加你的理解和分析能力。《纽约时报》（The New York Times）、《经济学人》(The Economist)、《卫报》(Guardian) 是很好的选择。此外，《BBC新闻每日摘要》、CNN Newsroom也是不错的新闻报道来源。你可以选择一篇感兴趣的文章并进行翻译训练，这样有助于加深对不同语境的理解和应用。\n",
      "\n",
      "2. 与母语人士交流可以通过参加线上活动或者在社交媒体上寻找志同道合的人进行交流来实现。这不仅可以让你锻炼自己的口语水平还可以了解到更多的文化和生活方式的信息。另外也可以通过观看电影电视剧等方式来学习地道的口音和使用日常用语的方式。\n",
      "[5] 1. 你认为自己英语水平如何?(满分5分)\n",
      "2. 在什么地方学过英语,效果怎么样? (满分3分)\n",
      "3. 如果要出国留学或工作的话,需要达到什么样的语言能力呢? (满分4分)\n",
      "[6] 在两个月的雅思备考计划中，我建议您每周至少安排4-5个小时的学习时间，每天安排1-2个小时的学习时间，每天安排一次模拟考试，以检验自己的学习效果。在学习过程中，要重点掌握雅思考试的考试形式、考试要求、考试技巧等，并熟练掌握各种语言知识，如语法、词汇、句型等。\n",
      "\n",
      "推荐学习资料方面，我推荐您可以使用官方指定的雅思考试教材，如《Official IELTS Practice Materials》、《Official IELTS Practice Materials 2》等，这些教材可以帮助您更好地掌握雅思考试的知识点，并且可以提供大量的模拟试题，以便您更好地检验自己的学习效果。此外，您还可以使用一些网络资源，如慕课网、沪江网等，这些网络资源可以提供大量的学习资料，以及一些有用的学习技巧，可以帮助您更好地备考雅思考试。\n",
      "[7] 好嘞，你这就是要全方位的备考计划啊！没问题，我来帮你制定一个两个月的雅思备考计划，并推荐一些学习资料给你。\n",
      "第一个月：\n",
      "周一至周五：\n",
      "早上：每天安排1小时的听力练习，可以选择使用Cambridge IELTS系列的听力材料进行练习。\n",
      "下午：每天安排2小时的阅读练习，推荐使用《剑桥雅思真题》或者《雅思官方指南》中的阅读部分进行练习。\n",
      "周末：\n",
      "周六：安排4小时的口语练习，可以找个语伴进行对话练习，或者使用《剑桥雅思真题》中的口语部分进行模拟练习。\n",
      "周日：安排4小时的写作练习，推荐使用《剑桥雅思真题》或者《雅思官方指南》中的写作部分进行练习。\n",
      "第二个月：\n",
      "周一至周五：\n",
      "早上：每天安排1小时的听力练习，可以选择使用IELTS Liz的听力视频进行练习。\n",
      "下午：每天安排2小时的阅读练习，推荐使用《剑桥雅思真题》或者《雅思官方指南》中的阅读部分进行练习。\n",
      "周末：\n",
      "周六：安排4小时的口语练习，可以找个语伴进行对话练习，或者使用IELTS Liz的口语视频进行模拟练习。\n",
      "周日：安排4小时的写作练习，推荐使用《剑桥雅思真题》或者《雅思官方指南》中的写作部分进行练习。\n",
      "此外，还有一些其他的学习资料可以帮助你备考雅思：\n",
      "IELTS Liz网站：提供了丰富的雅思学习资源，包括听力、阅读、口语和写作的视频教程和练习材料。\n",
      "雅思官方网站：提供了最权威的雅思考试信息和资源，包括真题下载、考试指南等。\n",
      "Cambridge IELTS系列：这是备考雅思必备的经典教材，里面有大量的真题和练习材料，非常适合备考使用。\n",
      "记住，备考雅思需要坚持和毅力，每天都要保持良好的学习习惯。相信自己，加油！\n",
      "The question is: 帮我制定两个月的雅思备考计划，并推荐学习资料 \n",
      "\n",
      "I will rank the 7 answers above based on their effectiveness, reliability, and fluency to the question. The answer will be listed in descending order using identifiers, and the best answer should be listed first, and the output format should be [] > [] > etc, e.g., [1] > [2] > etc.\n",
      "The ranking results of the 7 answers (only identifiers) is:\n",
      "[2] > [7] > [8] > [4] > [6] > [1] > [3] > [5]\n"
     ]
    }
   ],
   "source": [
    "# dimension means evaluate the answer ranking from three dimension\n",
    "ranking_agent = RankingAgent(method='dimension')\n",
    "inputs = {\n",
    "    'question':example['prompt'],\n",
    "    'llm_answer':[answer_processor.processing(typ=example['题型分类'], model_name=a, answer=example[a]) for a in model_name],\n",
    "    'reference_answer':example['answer']\n",
    "}\n",
    "\n",
    "print(ranking_agent.get_prompt(**inputs))\n",
    "print(ranking_agent.evaluation(inputs=inputs, \n",
    "                        model_name='gpt-3.5-turbo-16k-0613',\n",
    "                        key=openai.api_key))"
   ]
  },
  {
   "cell_type": "markdown",
   "metadata": {},
   "source": [
    "## Objective Question Understanding Example"
   ]
  },
  {
   "cell_type": "code",
   "execution_count": 6,
   "metadata": {},
   "outputs": [],
   "source": [
    "understanding_agent = UnderstandingAgent()"
   ]
  },
  {
   "cell_type": "code",
   "execution_count": 9,
   "metadata": {
    "collapsed": true,
    "jupyter": {
     "outputs_hidden": true
    },
    "tags": []
   },
   "outputs": [
    {
     "name": "stdout",
     "output_type": "stream",
     "text": [
      "\n",
      "Following is a judgement question and the corresponding answer, please tell me the attitude of answer to the question.\n",
      "Here are three options for you to choose:\n",
      "A. The answer totally thinks the argument in the question is correct\n",
      "B. The answer partially agree or disagree with the argument in the question\n",
      "C. The answer is irrelevant with the argument in the question, or does not answer the question\n",
      "\n",
      "Question:请你回答一个开放性问题，问题如下：\n",
      "帮我制定两个月的雅思备考计划，并推荐学习资料  现在，请开始回答：\n",
      "\n",
      "Answer:在两个月的雅思备考计划中，我建议您每周至少安排4-5个小时的学习时间，每天安排1-2个小时的学习时间，每天安排一次模拟考试，以检验自己的学习效果。在学习过程中，要重点掌握雅思考试的考试形式、考试要求、考试技巧等，并熟练掌握各种语言知识，如语法、词汇、句型等。\n",
      "\n",
      "推荐学习资料方面，我推荐您可以使用官方指定的雅思考试教材，如《Official IELTS Practice Materials》、《Official IELTS Practice Materials 2》等，这些教材可以帮助您更好地掌握雅思考试的知识点，并且可以提供大量的模拟试题，以便您更好地检验自己的学习效果。此外，您还可以使用一些网络资源，如慕课网、沪江网等，这些网络资源可以提供大量的学习资料，以及一些有用的学习技巧，可以帮助您更好地备考雅思考试。\n",
      "Please output A/B/C only after the symbol [Answer]. \n",
      "For example:\n",
      "[Answer] A\n",
      "\n",
      "The attitude of the answer is:\n",
      "[Answer]\n",
      "\n",
      "B\n"
     ]
    }
   ],
   "source": [
    "from llm_inference import get_prompt_by_typ\n",
    "\n",
    "prompt = get_prompt_by_typ(example)\n",
    "llm_answer = answer_processor.processing(typ=example['题型分类'], model_name='davinci-003', answer=example['davinci-003'])\n",
    "inputs = {\n",
    "    'question':prompt,\n",
    "    'llm_answer':llm_answer,\n",
    "    'typ':'judgement'\n",
    "}\n",
    "print(understanding_agent.get_prompt(**inputs))\n",
    "print(understanding_agent.evaluation(inputs=inputs, \n",
    "                        model_name='gpt-3.5-turbo-16k-0613',\n",
    "                        key=openai.api_key))"
   ]
  },
  {
   "cell_type": "code",
   "execution_count": null,
   "metadata": {},
   "outputs": [],
   "source": []
  }
 ],
 "metadata": {
  "kernelspec": {
   "display_name": "py39",
   "language": "python",
   "name": "py39"
  },
  "language_info": {
   "codemirror_mode": {
    "name": "ipython",
    "version": 3
   },
   "file_extension": ".py",
   "mimetype": "text/x-python",
   "name": "python",
   "nbconvert_exporter": "python",
   "pygments_lexer": "ipython3",
   "version": "3.9.16"
  }
 },
 "nbformat": 4,
 "nbformat_minor": 4
}
