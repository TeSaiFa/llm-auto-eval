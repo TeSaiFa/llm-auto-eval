{
 "cells": [
  {
   "cell_type": "code",
   "execution_count": 1,
   "metadata": {},
   "outputs": [],
   "source": [
    "import os\n",
    "import openai\n",
    "openai.api_key = 'sk-xxx'"
   ]
  },
  {
   "cell_type": "code",
   "execution_count": 34,
   "metadata": {},
   "outputs": [],
   "source": [
    "os.getenv(\"OPENAI_API_KEY\")"
   ]
  },
  {
   "cell_type": "markdown",
   "metadata": {},
   "source": [
    "# answer processing"
   ]
  },
  {
   "cell_type": "code",
   "execution_count": 10,
   "metadata": {},
   "outputs": [],
   "source": [
    "import pandas as pd\n",
    "llm_results = pd.read_csv('dataset_public/llm_result_samples.csv')"
   ]
  },
  {
   "cell_type": "code",
   "execution_count": 11,
   "metadata": {},
   "outputs": [
    {
     "data": {
      "text/html": [
       "<div>\n",
       "<style scoped>\n",
       "    .dataframe tbody tr th:only-of-type {\n",
       "        vertical-align: middle;\n",
       "    }\n",
       "\n",
       "    .dataframe tbody tr th {\n",
       "        vertical-align: top;\n",
       "    }\n",
       "\n",
       "    .dataframe thead th {\n",
       "        text-align: right;\n",
       "    }\n",
       "</style>\n",
       "<table border=\"1\" class=\"dataframe\">\n",
       "  <thead>\n",
       "    <tr style=\"text-align: right;\">\n",
       "      <th></th>\n",
       "      <th>一级分类</th>\n",
       "      <th>二级分类</th>\n",
       "      <th>domain</th>\n",
       "      <th>数据来源</th>\n",
       "      <th>题型分类</th>\n",
       "      <th>prompt</th>\n",
       "      <th>answer</th>\n",
       "      <th>id</th>\n",
       "      <th>instruction</th>\n",
       "      <th>chatglm</th>\n",
       "      <th>chatglm2</th>\n",
       "      <th>chinese-alpaca-13b</th>\n",
       "      <th>moss-sft</th>\n",
       "      <th>baichuan-7b</th>\n",
       "      <th>davinci-003</th>\n",
       "    </tr>\n",
       "  </thead>\n",
       "  <tbody>\n",
       "    <tr>\n",
       "      <th>0</th>\n",
       "      <td>基础能力</td>\n",
       "      <td>百科</td>\n",
       "      <td>医疗</td>\n",
       "      <td>机器生成/人工调整</td>\n",
       "      <td>问答</td>\n",
       "      <td>什么是医疗设备？</td>\n",
       "      <td>医疗设备是指用于医疗服务的一系列设备和工具，包括诊断设备、治疗设备、康复设备等。</td>\n",
       "      <td>124</td>\n",
       "      <td>请你回答一个开放性问题，问题如下：\\n什么是医疗设备？ 现在，请开始回答：\\n</td>\n",
       "      <td>医疗设备是一种用于诊断和治疗疾病的器械和工具,通常由硬件和软件组成。它们被广泛应用于医学、生...</td>\n",
       "      <td>医疗设备是指用于进行诊断、治疗或监测疾病或健康状况的仪器、设备或工具。这些设备可以包括各种不...</td>\n",
       "      <td>医疗设备是指用于诊断、治疗和监测疾病的器械。这些设备包括各种类型的仪器、装置和系统，如X射...</td>\n",
       "      <td>&lt;|Human|&gt;: 医疗设备的定义是什么? &lt;eoh&gt; \\n&lt;|MOSS|&gt;: \\n\\n根...</td>\n",
       "      <td>1. 定义: 2. 分类3. 功能4. 特点5. 发展趋势6. 应用领域7. 主要品牌8....</td>\n",
       "      <td>医疗设备是指用于诊断、治疗、康复和预防疾病的仪器、器械、材料和其他用品。它们可以是用于诊断的...</td>\n",
       "    </tr>\n",
       "  </tbody>\n",
       "</table>\n",
       "</div>"
      ],
      "text/plain": [
       "   一级分类 二级分类 domain       数据来源 题型分类    prompt  \\\n",
       "0  基础能力   百科     医疗  机器生成/人工调整   问答  什么是医疗设备？   \n",
       "\n",
       "                                     answer   id  \\\n",
       "0  医疗设备是指用于医疗服务的一系列设备和工具，包括诊断设备、治疗设备、康复设备等。  124   \n",
       "\n",
       "                               instruction  \\\n",
       "0  请你回答一个开放性问题，问题如下：\\n什么是医疗设备？ 现在，请开始回答：\\n   \n",
       "\n",
       "                                             chatglm  \\\n",
       "0  医疗设备是一种用于诊断和治疗疾病的器械和工具,通常由硬件和软件组成。它们被广泛应用于医学、生...   \n",
       "\n",
       "                                            chatglm2  \\\n",
       "0  医疗设备是指用于进行诊断、治疗或监测疾病或健康状况的仪器、设备或工具。这些设备可以包括各种不...   \n",
       "\n",
       "                                  chinese-alpaca-13b  \\\n",
       "0   医疗设备是指用于诊断、治疗和监测疾病的器械。这些设备包括各种类型的仪器、装置和系统，如X射...   \n",
       "\n",
       "                                            moss-sft  \\\n",
       "0  <|Human|>: 医疗设备的定义是什么? <eoh> \\n<|MOSS|>: \\n\\n根...   \n",
       "\n",
       "                                         baichuan-7b  \\\n",
       "0   1. 定义: 2. 分类3. 功能4. 特点5. 发展趋势6. 应用领域7. 主要品牌8....   \n",
       "\n",
       "                                         davinci-003  \n",
       "0  医疗设备是指用于诊断、治疗、康复和预防疾病的仪器、器械、材料和其他用品。它们可以是用于诊断的...  "
      ]
     },
     "execution_count": 11,
     "metadata": {},
     "output_type": "execute_result"
    }
   ],
   "source": [
    "llm_results.head(1)"
   ]
  },
  {
   "cell_type": "code",
   "execution_count": 12,
   "metadata": {},
   "outputs": [],
   "source": [
    "from src.llm_answer_postprocessor import AnswerProcessor\n",
    "answer_processor = AnswerProcessor()"
   ]
  },
  {
   "cell_type": "markdown",
   "metadata": {},
   "source": [
    "### example"
   ]
  },
  {
   "cell_type": "code",
   "execution_count": 14,
   "metadata": {},
   "outputs": [
    {
     "name": "stdout",
     "output_type": "stream",
     "text": [
      "<|Human|>: 如何才能有效地提高医院的运营效率? <eoh> \n",
      "<|MOSS|>: 运营效率是衡量一家医疗机构成功与否的重要指标之一。以下是一些可以采取的措施来有效提高医院的运营管理水平: \n",
      "\n",
      "1. 流程优化 - 通过对医疗流程的重新设计、简化或自动化来实现更快速和有效的医疗服务提供过程；同时也可以减少人为错误的发生率和时间浪费的情况发生。例如使用电子病历系统可以减少纸质记录的错误率和处理时间等。\n",
      "2. 服务质量监控与改进 - 使用数据分析工具和技术监测服务质量并收集反馈信息以改善服务质量和患者满意度。这可以通过定期进行客户调查和分析数据来完成。此外还可以建立一套完整的质量管理体系以确保服务的标准化和质量控制。\n",
      "3. 人机协作技术应用 - 与人工智能技术和机器人技术的结合可以实现自动化的工作流和服务模式，从而减轻医护人员的工作负担并缩短等待时间和就诊时长。这样可以更好地利用人力资源和资源，同时提供更好的服务和体验给病人及其家属。 <eom>\n",
      "----------------------------------------------------------------------------------------------------\n",
      "运营效率是衡量一家医疗机构成功与否的重要指标之一。以下是一些可以采取的措施来有效提高医院的运营管理水平: \n",
      "\n",
      "1. 流程优化 - 通过对医疗流程的重新设计、简化或自动化来实现更快速和有效的医疗服务提供过程；同时也可以减少人为错误的发生率和时间浪费的情况发生。例如使用电子病历系统可以减少纸质记录的错误率和处理时间等。\n",
      "2. 服务质量监控与改进 - 使用数据分析工具和技术监测服务质量并收集反馈信息以改善服务质量和患者满意度。这可以通过定期进行客户调查和分析数据来完成。此外还可以建立一套完整的质量管理体系以确保服务的标准化和质量控制。\n",
      "3. 人机协作技术应用 - 与人工智能技术和机器人技术的结合可以实现自动化的工作流和服务模式，从而减轻医护人员的工作负担并缩短等待时间和就诊时长。这样可以更好地利用人力资源和资源，同时提供更好的服务和体验给病人及其家属。\n"
     ]
    }
   ],
   "source": [
    "d = dict(llm_results.iloc[5,:])\n",
    "print(d['moss-sft'])\n",
    "print('-'*100)\n",
    "print(answer_processor.processing(typ=d['题型分类'], model_name='moss-sft', answer=d['moss-sft']))"
   ]
  },
  {
   "cell_type": "markdown",
   "metadata": {},
   "source": [
    "# ChatGPT eval-agent"
   ]
  },
  {
   "cell_type": "code",
   "execution_count": 15,
   "metadata": {},
   "outputs": [],
   "source": [
    "from src.eval_agent import ScoringAgent,UnderstandingAgent,RankingAgent\n",
    "from src.llm_answer_postprocessor import AnswerProcessor\n",
    "answer_processor = AnswerProcessor()\n",
    "model_name = ['chatglm','chatglm2','chinese-alpaca-13b','moss-sft','baichuan-7b', 'davinci-003']\n",
    "reference = 'answer'"
   ]
  },
  {
   "cell_type": "markdown",
   "metadata": {},
   "source": [
    "## Scoring Example"
   ]
  },
  {
   "cell_type": "code",
   "execution_count": 16,
   "metadata": {},
   "outputs": [],
   "source": [
    "example = dict(llm_results.iloc[5,:])"
   ]
  },
  {
   "cell_type": "code",
   "execution_count": 17,
   "metadata": {
    "collapsed": true,
    "jupyter": {
     "outputs_hidden": true
    },
    "tags": []
   },
   "outputs": [
    {
     "name": "stdout",
     "output_type": "stream",
     "text": [
      "\n",
      "You are a scoring GPT, an intelligent assistant that can score the LLM output answer to the question with respect to following three aspects with score 1 to 3.\n",
      "\n",
      "Aspect 1 effectiveness:\n",
      "Score 1 means the answer is totally irrelevant to the question;\n",
      "Score 2 means the answer can partially follow the question and provide insufficient information to the question;\n",
      "Score 3 means the answer can follow the question well and provide enough information to the question.\n",
      "\n",
      "Aspect 2 reliability:\n",
      "Score 1 means the answer is totally fictitious and illogical;\n",
      "Score 2 means the answer contains some facts faults and full of logical flaws;\n",
      "Score 3 means the answer is logically sound and totally factual.\n",
      "\n",
      "Aspect 3 fluency:\n",
      "Score 1 means the answer is incomplete and incoherent, or keeps repeating the same phrase;\n",
      "Score 2 means the answer is complete, while containing grammatical errors;\n",
      "Score 3 means the answer is complete, coherent and free of grammatical errors.\n",
      "\n",
      "Please output the score and the output format should be \n",
      "[effectiveness score] ...\n",
      "[reliability score] ...\n",
      "[fluency score] ...\n",
      "\n",
      "For example:\n",
      "[effectiveness score] 2\n",
      "[reliability score] 2\n",
      "[fluency score] 2\n",
      "\n",
      "The reference answer to the question will be given below, and suppose it scores 2 points.\n",
      "\n",
      "Question is: \n",
      "医院管理的目标是什么？\n",
      "\n",
      "The LLM Answer is: \n",
      "医院管理的目标是提供高质量的医疗服务，以满足患者的需求，提高患者的满意度，并且确保医院的可持续发展。\n",
      "\n",
      "The reference answer to user's question is:\n",
      "医院管理的目标是提高医疗服务的质量和效率，降低成本，提高患者满意度和医院声誉。\n",
      "\n",
      "The score of the LLM Answer is:\n",
      "\n",
      "[effectiveness score] 3\n",
      "[reliability score] 3\n",
      "[fluency score] 3\n"
     ]
    }
   ],
   "source": [
    "llm_answer = answer_processor.processing(typ=example['题型分类'], model_name='davinci-003', answer=example['davinci-003'])\n",
    "inputs = {\n",
    "    'question':example['prompt'],\n",
    "    'llm_answer':llm_answer,\n",
    "    'reference_answer':example['answer']\n",
    "}\n",
    "scoringAgent = ScoringAgent()\n",
    "print(scoringAgent.get_prompt(**inputs))\n",
    "print(scoringAgent.evaluation(inputs=inputs, \n",
    "                        model_name='gpt-3.5-turbo-16k-0613',\n",
    "                        key=openai.api_key))"
   ]
  },
  {
   "cell_type": "markdown",
   "metadata": {},
   "source": [
    "## Ranking Example"
   ]
  },
  {
   "cell_type": "code",
   "execution_count": 18,
   "metadata": {
    "collapsed": true,
    "jupyter": {
     "outputs_hidden": true
    },
    "tags": []
   },
   "outputs": [
    {
     "name": "stdout",
     "output_type": "stream",
     "text": [
      "\n",
      "This is RankGPT, an intelligent assistant that can rank answers based on their effectiveness, reliability, and fluency to the question. Definition of three principles are given below:\n",
      "The definition of effectiveness are:\n",
      "1. The answer can follow the question well and be related to the question;\n",
      "2. The answer can provide some information to meet the requirements of the question.\n",
      "The definition of reliability are:\n",
      "1. The information in the answer is consistent with objective reality;\n",
      "2. The answer and its reasoning are logically sound.\n",
      "The definition of fluency are:\n",
      "1. The answer is complete;\n",
      "2. The answer is coherent and free of grammatical errors.\n",
      "\n",
      "[1] 医院管理的目标是提供高质量的医疗服务,同时确保医院运营高效、安全、有序,满足患者和家属的需求。具体来说,医院管理的目标可能包括以下几个方面:\n",
      "\n",
      "1. 提高医疗服务质量:通过培训医疗人员、改进医疗设备和技术、加强质量控制等措施,提高医疗服务的质量和效率,确保患者得到最佳的治疗和护理。\n",
      "\n",
      "2. 促进医院可持续发展:通过制定合理的预算、控制成本、提高效益、加强财务管理等措施,实现医院的可持续发展,为病人提供更好的服务和支持。\n",
      "\n",
      "3. 提高医院的安全性和可靠性:通过建立安全管理体系、加强人员培训和监管、完善急救流程等措施,保障医院的运营安全和病人的隐私。\n",
      "[2] 医院管理的目标是在保证医疗质量的前提下，提高医院的效率和服务水平，以满足患者不断增长的需求。同时，医院管理还要关注员工的福利和发展，以及医院的可持续发展。\n",
      "[3] 1. 提高医疗质量和服务水平。\n",
      "2. 降低医疗成本和费用负担。\n",
      "3. 加强医院的管理和监督。\n",
      "4. 促进医院的发展和创新。\n",
      "[4] 运营效率是衡量一家医疗机构成功与否的重要指标之一。以下是一些可以采取的措施来有效提高医院的运营管理水平: \n",
      "\n",
      "1. 流程优化 - 通过对医疗流程的重新设计、简化或自动化来实现更快速和有效的医疗服务提供过程；同时也可以减少人为错误的发生率和时间浪费的情况发生。例如使用电子病历系统可以减少纸质记录的错误率和处理时间等。\n",
      "2. 服务质量监控与改进 - 使用数据分析工具和技术监测服务质量并收集反馈信息以改善服务质量和患者满意度。这可以通过定期进行客户调查和分析数据来完成。此外还可以建立一套完整的质量管理体系以确保服务的标准化和质量控制。\n",
      "3. 人机协作技术应用 - 与人工智能技术和机器人技术的结合可以实现自动化的工作流和服务模式，从而减轻医护人员的工作负担并缩短等待时间和就诊时长。这样可以更好地利用人力资源和资源，同时提供更好的服务和体验给病人及其家属。\n",
      "[5] 1. 目标是实现医疗保健的最佳结果。2. 目标是在不影响患者安全和质量的情况下提供最便宜的服务3. 目标是为病人创造最好的环境4. 目标是提高员工满意度5. 目标是减少成本6. 目标是改善服务7. 目标是增加收入8. 目标是降低风险9. 目标是改进流程\n",
      "[6] 医院管理的目标是提供高质量的医疗服务，以满足患者的需求，提高患者的满意度，并且确保医院的可持续发展。\n",
      "[7] 医院管理的目标是提高医疗服务的质量和效率，降低成本，提高患者满意度和医院声誉。\n",
      "The question is: 医院管理的目标是什么？\n",
      "\n",
      "I will rank the 7 answers above based on their effectiveness, reliability, and fluency to the question. The answer will be listed in descending order using identifiers, and the best answer should be listed first, and the output format should be [] > [] > etc, e.g., [1] > [2] > etc.\n",
      "The ranking results of the 7 answers (only identifiers) is:\n",
      "[1] > [6] > [7] > [8] > [4] > [3] > [2] > [5]\n"
     ]
    }
   ],
   "source": [
    "# dimension means evaluate the answer ranking from three dimension\n",
    "ranking_agent = RankingAgent(method='dimension')\n",
    "inputs = {\n",
    "    'question':example['prompt'],\n",
    "    'llm_answer':[answer_processor.processing(typ=example['题型分类'], model_name=a, answer=example[a]) for a in model_name],\n",
    "    'reference_answer':example['answer']\n",
    "}\n",
    "\n",
    "print(ranking_agent.get_prompt(**inputs))\n",
    "print(ranking_agent.evaluation(inputs=inputs, \n",
    "                        model_name='gpt-3.5-turbo-16k-0613',\n",
    "                        key=openai.api_key))"
   ]
  },
  {
   "cell_type": "markdown",
   "metadata": {},
   "source": [
    "## Objective Question Understanding Example"
   ]
  },
  {
   "cell_type": "code",
   "execution_count": 6,
   "metadata": {},
   "outputs": [],
   "source": [
    "understanding_agent = UnderstandingAgent()"
   ]
  },
  {
   "cell_type": "code",
   "execution_count": 19,
   "metadata": {
    "collapsed": true,
    "jupyter": {
     "outputs_hidden": true
    },
    "tags": []
   },
   "outputs": [
    {
     "name": "stdout",
     "output_type": "stream",
     "text": [
      "\n",
      "Following is a judgement question and the corresponding answer, please tell me the attitude of answer to the question.\n",
      "Here are three options for you to choose:\n",
      "A. The answer totally thinks the argument in the question is correct\n",
      "B. The answer partially agree or disagree with the argument in the question\n",
      "C. The answer is irrelevant with the argument in the question, or does not answer the question\n",
      "\n",
      "Question:请你回答一个开放性问题，问题如下：\n",
      "医院管理的目标是什么？ 现在，请开始回答：\n",
      "\n",
      "Answer:医院管理的目标是提供高质量的医疗服务，以满足患者的需求，提高患者的满意度，并且确保医院的可持续发展。\n",
      "Please output A/B/C only after the symbol [Answer]. \n",
      "For example:\n",
      "[Answer] A\n",
      "\n",
      "The attitude of the answer is:\n",
      "[Answer]\n",
      "\n",
      "B\n"
     ]
    }
   ],
   "source": [
    "from llm_inference import get_prompt_by_typ\n",
    "\n",
    "prompt = get_prompt_by_typ(example)\n",
    "llm_answer = answer_processor.processing(typ=example['题型分类'], model_name='davinci-003', answer=example['davinci-003'])\n",
    "inputs = {\n",
    "    'question':prompt,\n",
    "    'llm_answer':llm_answer,\n",
    "    'typ':'judgement'\n",
    "}\n",
    "print(understanding_agent.get_prompt(**inputs))\n",
    "print(understanding_agent.evaluation(inputs=inputs, \n",
    "                        model_name='gpt-3.5-turbo-16k-0613',\n",
    "                        key=openai.api_key))"
   ]
  },
  {
   "cell_type": "code",
   "execution_count": null,
   "metadata": {},
   "outputs": [],
   "source": []
  }
 ],
 "metadata": {
  "kernelspec": {
   "display_name": "py39",
   "language": "python",
   "name": "py39"
  },
  "language_info": {
   "codemirror_mode": {
    "name": "ipython",
    "version": 3
   },
   "file_extension": ".py",
   "mimetype": "text/x-python",
   "name": "python",
   "nbconvert_exporter": "python",
   "pygments_lexer": "ipython3",
   "version": "3.9.16"
  }
 },
 "nbformat": 4,
 "nbformat_minor": 4
}
